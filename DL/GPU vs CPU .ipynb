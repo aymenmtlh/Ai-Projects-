{
 "cells": [
  {
   "cell_type": "code",
   "execution_count": null,
   "id": "ef5b67cb",
   "metadata": {},
   "outputs": [],
   "source": [
    "import tensorflow as tf \n",
    "from tensorflow import keras \n",
    "import matplotlib.pyplot as plt \n",
    "import numpy as np "
   ]
  },
  {
   "cell_type": "code",
   "execution_count": null,
   "id": "a70f902c",
   "metadata": {},
   "outputs": [],
   "source": [
    "tf.config.experimental.list_physical_devices()"
   ]
  },
  {
   "cell_type": "code",
   "execution_count": null,
   "id": "293bf057",
   "metadata": {},
   "outputs": [],
   "source": [
    "tf.test.is_built_with_cuda()"
   ]
  },
  {
   "cell_type": "code",
   "execution_count": null,
   "id": "18132f8f",
   "metadata": {},
   "outputs": [],
   "source": [
    "(X_train , y_train),(X_test ,  y_test ) =  tf.keras.datasets.fashion_mnist.load_data()\n",
    "\n"
   ]
  },
  {
   "cell_type": "code",
   "execution_count": null,
   "id": "c733f34a",
   "metadata": {},
   "outputs": [],
   "source": [
    "X_train.shape "
   ]
  },
  {
   "cell_type": "code",
   "execution_count": null,
   "id": "f37690be",
   "metadata": {},
   "outputs": [],
   "source": [
    "y_train.shape "
   ]
  },
  {
   "cell_type": "code",
   "execution_count": null,
   "id": "5c09a481",
   "metadata": {},
   "outputs": [],
   "source": [
    "X_train[:5]"
   ]
  },
  {
   "cell_type": "code",
   "execution_count": null,
   "id": "6d14a193",
   "metadata": {},
   "outputs": [],
   "source": [
    "def plot_sample (index) :\n",
    "    plt.figure(figsize=(10,1))\n",
    "    plt.imshow(X_train[index])\n",
    "    "
   ]
  },
  {
   "cell_type": "code",
   "execution_count": null,
   "id": "72d88715",
   "metadata": {},
   "outputs": [],
   "source": [
    "plot_sample(40)"
   ]
  },
  {
   "cell_type": "code",
   "execution_count": null,
   "id": "3df011b8",
   "metadata": {},
   "outputs": [],
   "source": [
    "classes =  ['T-shirt/top' , 'Trouser' ,\"Pullover\" ,\"Dress\" ,\"Coat\",\"Sandal\",\"Shirt\",\"Sneaker\",\"bag\",\"Ankle boot\" ]"
   ]
  },
  {
   "cell_type": "code",
   "execution_count": null,
   "id": "649e936f",
   "metadata": {},
   "outputs": [],
   "source": [
    "X_train_scaled = X_train / 255\n",
    "X_test_scaled = X_test / 255 "
   ]
  },
  {
   "cell_type": "code",
   "execution_count": null,
   "id": "7577260c",
   "metadata": {},
   "outputs": [],
   "source": [
    "X_train_scaled.shape "
   ]
  },
  {
   "cell_type": "code",
   "execution_count": null,
   "id": "a6c2eb0b",
   "metadata": {},
   "outputs": [],
   "source": [
    "X_train.shape "
   ]
  },
  {
   "cell_type": "code",
   "execution_count": null,
   "id": "792af10a",
   "metadata": {},
   "outputs": [],
   "source": [
    "y_train_categorical = keras.utils.to_categorical(y_train , num_classes= 10 , dtype='float32')\n"
   ]
  },
  {
   "cell_type": "code",
   "execution_count": null,
   "id": "42701194",
   "metadata": {},
   "outputs": [],
   "source": [
    "y_train_categorical[3]"
   ]
  },
  {
   "cell_type": "code",
   "execution_count": null,
   "id": "1c3e5e7a",
   "metadata": {},
   "outputs": [],
   "source": [
    "model =  keras.Sequential([\n",
    "    \n",
    "    keras.layers.Flatten(   input_shape =(28 , 28 ) ) , \n",
    "    \n",
    "    \n",
    "    keras.layers.Dense(3000 , activation ='relu'), \n",
    "    keras.layers.Dense(1000 , activation ='relu'),\n",
    "    \n",
    "    \n",
    "    keras.layers.Dense(10 , activation= 'sigmoid')\n",
    "    \n",
    "    \n",
    "])\n",
    "\n",
    "\n"
   ]
  },
  {
   "cell_type": "code",
   "execution_count": null,
   "id": "bad2542b",
   "metadata": {},
   "outputs": [],
   "source": [
    "model.compile(optimizer='SGD',\n",
    "              loss='categorical_crossentropy',\n",
    "              metrics=['accuracy'])\n"
   ]
  },
  {
   "cell_type": "code",
   "execution_count": null,
   "id": "dc8d29e5",
   "metadata": {},
   "outputs": [],
   "source": [
    "model.fit( X_train_scaled , y_train_categorical , epochs =  5 )"
   ]
  },
  {
   "cell_type": "code",
   "execution_count": null,
   "id": "2c152993",
   "metadata": {},
   "outputs": [],
   "source": [
    "classes[np.argmax(model.predict(X_test_scaled)[0])]"
   ]
  },
  {
   "cell_type": "code",
   "execution_count": null,
   "id": "4bb1b8ad",
   "metadata": {},
   "outputs": [],
   "source": [
    "classes[y_test[0]]"
   ]
  },
  {
   "cell_type": "code",
   "execution_count": null,
   "id": "d739a9ac",
   "metadata": {},
   "outputs": [],
   "source": [
    "def get_model():\n",
    "    model = keras.Sequential([\n",
    "            keras.layers.Flatten(input_shape=(28,28)),\n",
    "            keras.layers.Dense(3000, activation='relu'),\n",
    "            keras.layers.Dense(1000, activation='relu'),\n",
    "            keras.layers.Dense(10, activation='sigmoid')    \n",
    "        ])\n",
    "\n",
    "    model.compile(optimizer='SGD',\n",
    "                  loss='categorical_crossentropy',\n",
    "                  metrics=['accuracy'])\n",
    "    return model"
   ]
  },
  {
   "cell_type": "code",
   "execution_count": null,
   "id": "ec39f771",
   "metadata": {},
   "outputs": [],
   "source": [
    "%%timeit -n1 -r1 \n",
    "with tf.device('/CPU:0'):\n",
    "    cpu_model = get_model()\n",
    "    cpu_model.fit(X_train_scaled, y_train_categorical, epochs=1)"
   ]
  },
  {
   "cell_type": "code",
   "execution_count": null,
   "id": "76112cb1",
   "metadata": {},
   "outputs": [],
   "source": [
    "%%timeit -n1 -r1 \n",
    "with tf.device('/GPU:0'):\n",
    "    cpu_model = get_model()\n",
    "    cpu_model.fit(X_train_scaled, y_train_categorical, epochs=1)"
   ]
  },
  {
   "cell_type": "code",
   "execution_count": null,
   "id": "4cbff531",
   "metadata": {},
   "outputs": [],
   "source": []
  },
  {
   "cell_type": "code",
   "execution_count": null,
   "id": "2d42829a",
   "metadata": {},
   "outputs": [],
   "source": []
  },
  {
   "cell_type": "code",
   "execution_count": null,
   "id": "bc9343f4",
   "metadata": {},
   "outputs": [],
   "source": []
  }
 ],
 "metadata": {
  "kernelspec": {
   "display_name": "Python 3 (ipykernel)",
   "language": "python",
   "name": "python3"
  },
  "language_info": {
   "codemirror_mode": {
    "name": "ipython",
    "version": 3
   },
   "file_extension": ".py",
   "mimetype": "text/x-python",
   "name": "python",
   "nbconvert_exporter": "python",
   "pygments_lexer": "ipython3",
   "version": "3.9.12"
  }
 },
 "nbformat": 4,
 "nbformat_minor": 5
}
