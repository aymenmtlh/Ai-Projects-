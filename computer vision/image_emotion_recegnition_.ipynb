{
  "cells": [
    {
      "cell_type": "code",
      "execution_count": null,
      "metadata": {
        "id": "LI-rh4jBmOew"
      },
      "outputs": [],
      "source": [
        "!mkdir -p ~/.kaggle\n",
        "!cp kaggle.json ~/.kaggle/\n",
        "\n",
        "!chmod 600 ~/.kaggle/kaggle.json"
      ]
    },
    {
      "cell_type": "code",
      "execution_count": null,
      "metadata": {
        "id": "b3SMt15smh8Q"
      },
      "outputs": [],
      "source": [
        "import os\n",
        "import glob as gb\n",
        "import pandas as pd\n",
        "import tensorflow as tf\n",
        "import matplotlib.pyplot as plt\n",
        "from tensorflow import keras\n",
        "from keras.models import Sequential\n",
        "\n",
        "from keras.layers import Conv2D\n",
        "from keras.layers import MaxPooling2D\n",
        "from keras.layers import Flatten\n",
        "from keras.layers import Dense"
      ]
    },
    {
      "cell_type": "code",
      "execution_count": null,
      "metadata": {
        "id": "LJa1TTT1mkbn"
      },
      "outputs": [],
      "source": [
        "import kaggle"
      ]
    },
    {
      "cell_type": "code",
      "execution_count": null,
      "metadata": {
        "colab": {
          "base_uri": "https://localhost:8080/"
        },
        "id": "iYedj_0zmnNo",
        "outputId": "ca51d766-444b-4414-cc5f-41e2d3b97988"
      },
      "outputs": [
        {
          "output_type": "stream",
          "name": "stdout",
          "text": [
            "Downloading einterface-image-dataset.zip to /content\n",
            " 96% 769M/801M [00:08<00:00, 108MB/s]\n",
            "100% 801M/801M [00:08<00:00, 98.2MB/s]\n"
          ]
        }
      ],
      "source": [
        "!kaggle datasets download -d ameyamote030/einterface-image-dataset"
      ]
    },
    {
      "cell_type": "code",
      "execution_count": null,
      "metadata": {
        "colab": {
          "base_uri": "https://localhost:8080/"
        },
        "id": "7BEbnJz6mtKa",
        "outputId": "04cf2e55-4017-4d59-ec2d-9ba447a24974"
      },
      "outputs": [
        {
          "output_type": "stream",
          "name": "stdout",
          "text": [
            "dataset is extracted\n"
          ]
        }
      ],
      "source": [
        "from zipfile import ZipFile\n",
        "\n",
        "dataset =  \"/content/einterface-image-dataset.zip\"\n",
        "\n",
        "\n",
        "\n",
        "\n",
        "with ZipFile(dataset , 'r') as zip :\n",
        "\n",
        "  zip.extractall()\n",
        "  print('dataset is extracted')"
      ]
    },
    {
      "cell_type": "code",
      "execution_count": null,
      "metadata": {
        "id": "RbCJF2wZnxu6"
      },
      "outputs": [],
      "source": [
        "train_dir = '/content/eINTERFACE_2021_Image/train'\n",
        "valid_dir = '/content/eINTERFACE_2021_Image/val'\n",
        "test_dir = '/content/eINTERFACE_2021_Image/test'"
      ]
    },
    {
      "cell_type": "code",
      "execution_count": null,
      "metadata": {
        "colab": {
          "base_uri": "https://localhost:8080/"
        },
        "id": "KGIFiezhm9da",
        "outputId": "bd003811-5cfc-4e7e-a847-e38b791a7fe9"
      },
      "outputs": [
        {
          "output_type": "stream",
          "name": "stdout",
          "text": [
            "for training set found 1922 in Surprise\n",
            "for training set found 1922 in Fear\n",
            "for training set found 1922 in Sadness\n",
            "for training set found 1922 in Happiness\n",
            "for training set found 1891 in Disgust\n",
            "for training set found 1896 in Anger\n"
          ]
        }
      ],
      "source": [
        "##Training data size\n",
        "\n",
        "for folder in os.listdir(train_dir) :\n",
        "  files = gb.glob(pathname=(train_dir +'/' + folder +'/*.jpg'))\n",
        "  print(f'for training set found {len(files)} in {folder}')\n"
      ]
    },
    {
      "cell_type": "code",
      "execution_count": null,
      "metadata": {
        "colab": {
          "base_uri": "https://localhost:8080/"
        },
        "id": "0bl9U4HcokMU",
        "outputId": "93a0db79-ebdc-410d-ee75-9fbe7e92b91f"
      },
      "outputs": [
        {
          "output_type": "stream",
          "name": "stdout",
          "text": [
            "for validation set found 240 in Surprise\n",
            "for validation set found 240 in Fear\n",
            "for validation set found 240 in Sadness\n",
            "for validation set found 240 in Happiness\n",
            "for validation set found 236 in Disgust\n",
            "for validation set found 237 in Anger\n"
          ]
        }
      ],
      "source": [
        "##valdiation data size\n",
        "\n",
        "for folder in os.listdir(valid_dir) :\n",
        "  files = gb.glob(pathname=(valid_dir +'/' + folder +'/*.jpg'))\n",
        "  print(f'for validation set found {len(files)} in {folder}')"
      ]
    },
    {
      "cell_type": "code",
      "execution_count": null,
      "metadata": {
        "colab": {
          "base_uri": "https://localhost:8080/"
        },
        "id": "44B10Y7HpAuR",
        "outputId": "d0f1a77f-1f54-47f0-9e15-b5ef3f87358b"
      },
      "outputs": [
        {
          "output_type": "stream",
          "name": "stdout",
          "text": [
            "for testing set found 241 in Surprise\n",
            "for testing set found 241 in Fear\n",
            "for testing set found 241 in Sadness\n",
            "for testing set found 241 in Happiness\n",
            "for testing set found 237 in Disgust\n",
            "for testing set found 237 in Anger\n"
          ]
        }
      ],
      "source": [
        "##testing data size\n",
        "\n",
        "for folder in os.listdir(test_dir) :\n",
        "  files = gb.glob(pathname=(test_dir +'/' + folder +'/*.jpg'))\n",
        "  print(f'for testing set found {len(files)} in {folder}')"
      ]
    },
    {
      "cell_type": "code",
      "execution_count": null,
      "metadata": {
        "id": "wFakQqAipGnQ"
      },
      "outputs": [],
      "source": [
        "#Data visulation\n",
        "import random\n",
        "import matplotlib.image as mpimg\n",
        "\n",
        "\n",
        "\n",
        "def view_random_image(target_dir, target_class):\n",
        "    # We will view images from here\n",
        "    target_folder = target_dir + target_class\n",
        "\n",
        "    # Get a random image path\n",
        "    random_image = random.sample(os.listdir(target_folder), 1)\n",
        "\n",
        "    # read in the image and plot it using matplolib\n",
        "    img = mpimg.imread(target_folder+'/'+random_image[0])\n",
        "    plt.imshow(img)\n",
        "    plt.title(target_class)\n",
        "    plt.axis('off')\n",
        "    print(f\"Image shape {img.shape}\")\n",
        "\n",
        "    return img"
      ]
    },
    {
      "cell_type": "code",
      "execution_count": null,
      "metadata": {
        "id": "UDF-L0LW4pPW"
      },
      "outputs": [],
      "source": [
        "class_names =['Anger' , 'Disgust'  , 'Fear' , 'Happiness' ,  'Sadness' ,  'Surprise' ]"
      ]
    },
    {
      "cell_type": "code",
      "execution_count": null,
      "metadata": {
        "id": "q4bF3FuW5Jm1"
      },
      "outputs": [],
      "source": [
        "#plt.figure(figsize=(20,10))\n",
        "#for i in range(18):\n",
        "#    plt.subplot(3, 6,i+1)\n",
        "#    class_name = random.choice(class_names)\n",
        "#    img = view_random_image(target_dir=\"/content/eINTERFACE_2021_Image/train\", target_class=class_name)"
      ]
    },
    {
      "cell_type": "code",
      "execution_count": null,
      "metadata": {
        "colab": {
          "base_uri": "https://localhost:8080/"
        },
        "id": "eOnaIcQO6KcC",
        "outputId": "ae5e4dd8-70c6-45f1-f2c4-c16ae9ba0108"
      },
      "outputs": [
        {
          "output_type": "stream",
          "name": "stdout",
          "text": [
            "Found 11475 images belonging to 6 classes.\n",
            "Found 1433 images belonging to 6 classes.\n"
          ]
        }
      ],
      "source": [
        "from keras.preprocessing.image import ImageDataGenerator\n",
        "\n",
        "train_datagen = ImageDataGenerator(rescale = 1./255,\n",
        "                                   shear_range = 0.2,\n",
        "                                   zoom_range = 0.2,\n",
        "                                   horizontal_flip = True)\n",
        "\n",
        "test_datagen = ImageDataGenerator(rescale = 1./255)\n",
        "\n",
        "training_set = train_datagen.flow_from_directory(train_dir,\n",
        "                                                 target_size = (128, 128),\n",
        "                                                 batch_size = 64,\n",
        "                                                 class_mode = 'categorical')\n",
        "\n",
        "valid_set = test_datagen.flow_from_directory(valid_dir,\n",
        "                                            target_size = (128, 128),\n",
        "                                            batch_size = 64,\n",
        "                                            class_mode = 'categorical')"
      ]
    },
    {
      "cell_type": "code",
      "execution_count": null,
      "metadata": {
        "id": "cM3dHBGQ-x3m"
      },
      "outputs": [],
      "source": [
        "model = Sequential()\n",
        "\n",
        "model.add(Conv2D(16 , (3,3) , input_shape = (128,128,3)  , activation = 'relu'))\n",
        "model.add(MaxPooling2D((2,2)))\n",
        "\n",
        "model.add(Conv2D(32 ,(3,3) ,  activation = 'relu'))\n",
        "model.add(MaxPooling2D((2,2)))\n",
        "\n",
        "model.add(Flatten())\n",
        "\n",
        "model.add(Dense(128 , activation = 'relu'))\n",
        "model.add(Dense(6 , activation = 'softmax'))\n"
      ]
    },
    {
      "cell_type": "code",
      "execution_count": null,
      "metadata": {
        "id": "hyvlazu5BRrN"
      },
      "outputs": [],
      "source": [
        "model.compile( optimizer='adam' ,  loss = 'categorical_crossentropy' ,  metrics = ['accuracy']\n",
        ")"
      ]
    },
    {
      "cell_type": "code",
      "execution_count": null,
      "metadata": {
        "colab": {
          "base_uri": "https://localhost:8080/"
        },
        "id": "qQednQvHBl8R",
        "outputId": "b3229fe7-d220-4618-8fb2-a09bc22685fc"
      },
      "outputs": [
        {
          "output_type": "stream",
          "name": "stdout",
          "text": [
            "Model: \"sequential\"\n",
            "_________________________________________________________________\n",
            " Layer (type)                Output Shape              Param #   \n",
            "=================================================================\n",
            " conv2d (Conv2D)             (None, 126, 126, 16)      448       \n",
            "                                                                 \n",
            " max_pooling2d (MaxPooling2D  (None, 63, 63, 16)       0         \n",
            " )                                                               \n",
            "                                                                 \n",
            " conv2d_1 (Conv2D)           (None, 61, 61, 32)        4640      \n",
            "                                                                 \n",
            " max_pooling2d_1 (MaxPooling  (None, 30, 30, 32)       0         \n",
            " 2D)                                                             \n",
            "                                                                 \n",
            " flatten (Flatten)           (None, 28800)             0         \n",
            "                                                                 \n",
            " dense (Dense)               (None, 128)               3686528   \n",
            "                                                                 \n",
            " dense_1 (Dense)             (None, 6)                 774       \n",
            "                                                                 \n",
            "=================================================================\n",
            "Total params: 3,692,390\n",
            "Trainable params: 3,692,390\n",
            "Non-trainable params: 0\n",
            "_________________________________________________________________\n"
          ]
        }
      ],
      "source": [
        "model.summary()"
      ]
    },
    {
      "cell_type": "code",
      "execution_count": null,
      "metadata": {
        "colab": {
          "base_uri": "https://localhost:8080/"
        },
        "id": "fz7XTkpJB44F",
        "outputId": "a0fcfe6c-be6d-4dc3-837f-26de2fc62d39"
      },
      "outputs": [
        {
          "output_type": "stream",
          "name": "stdout",
          "text": [
            "Epoch 1/50\n",
            "180/180 [==============================] - 76s 356ms/step - loss: 1.7505 - accuracy: 0.2646 - val_loss: 1.5734 - val_accuracy: 0.3678\n",
            "Epoch 2/50\n",
            "180/180 [==============================] - 62s 347ms/step - loss: 1.5038 - accuracy: 0.3932 - val_loss: 1.4190 - val_accuracy: 0.4110\n",
            "Epoch 3/50\n",
            "180/180 [==============================] - 62s 346ms/step - loss: 1.3030 - accuracy: 0.4810 - val_loss: 1.1556 - val_accuracy: 0.5548\n",
            "Epoch 4/50\n",
            "180/180 [==============================] - 63s 351ms/step - loss: 1.1502 - accuracy: 0.5504 - val_loss: 1.0485 - val_accuracy: 0.5827\n",
            "Epoch 5/50\n",
            "180/180 [==============================] - 62s 342ms/step - loss: 1.0499 - accuracy: 0.5899 - val_loss: 0.9903 - val_accuracy: 0.6253\n",
            "Epoch 6/50\n",
            "180/180 [==============================] - 62s 344ms/step - loss: 0.9782 - accuracy: 0.6191 - val_loss: 1.0309 - val_accuracy: 0.5848\n",
            "Epoch 7/50\n",
            "180/180 [==============================] - 62s 345ms/step - loss: 0.9084 - accuracy: 0.6547 - val_loss: 1.0630 - val_accuracy: 0.5994\n",
            "Epoch 8/50\n",
            "180/180 [==============================] - 62s 342ms/step - loss: 0.8488 - accuracy: 0.6799 - val_loss: 0.9066 - val_accuracy: 0.6532\n",
            "Epoch 9/50\n",
            "180/180 [==============================] - 62s 344ms/step - loss: 0.8164 - accuracy: 0.6900 - val_loss: 0.8306 - val_accuracy: 0.6790\n",
            "Epoch 10/50\n",
            "180/180 [==============================] - 61s 340ms/step - loss: 0.7630 - accuracy: 0.7123 - val_loss: 0.7815 - val_accuracy: 0.6957\n",
            "Epoch 11/50\n",
            "180/180 [==============================] - 63s 350ms/step - loss: 0.7346 - accuracy: 0.7227 - val_loss: 0.7160 - val_accuracy: 0.7320\n",
            "Epoch 12/50\n",
            "180/180 [==============================] - 61s 340ms/step - loss: 0.6883 - accuracy: 0.7421 - val_loss: 0.7459 - val_accuracy: 0.6909\n",
            "Epoch 13/50\n",
            "180/180 [==============================] - 65s 363ms/step - loss: 0.6771 - accuracy: 0.7474 - val_loss: 0.6861 - val_accuracy: 0.7390\n",
            "Epoch 14/50\n",
            "180/180 [==============================] - 62s 344ms/step - loss: 0.6456 - accuracy: 0.7597 - val_loss: 0.6664 - val_accuracy: 0.7432\n",
            "Epoch 15/50\n",
            "180/180 [==============================] - 61s 341ms/step - loss: 0.6197 - accuracy: 0.7724 - val_loss: 0.7160 - val_accuracy: 0.7362\n",
            "Epoch 16/50\n",
            "180/180 [==============================] - 63s 348ms/step - loss: 0.5990 - accuracy: 0.7799 - val_loss: 0.6706 - val_accuracy: 0.7495\n",
            "Epoch 17/50\n",
            "180/180 [==============================] - 62s 346ms/step - loss: 0.5822 - accuracy: 0.7847 - val_loss: 0.6237 - val_accuracy: 0.7725\n",
            "Epoch 18/50\n",
            "180/180 [==============================] - 62s 343ms/step - loss: 0.5730 - accuracy: 0.7885 - val_loss: 0.6757 - val_accuracy: 0.7488\n",
            "Epoch 19/50\n",
            "180/180 [==============================] - 65s 359ms/step - loss: 0.5390 - accuracy: 0.8005 - val_loss: 0.6055 - val_accuracy: 0.7788\n",
            "Epoch 20/50\n",
            "180/180 [==============================] - 62s 344ms/step - loss: 0.5334 - accuracy: 0.7994 - val_loss: 0.5369 - val_accuracy: 0.7962\n",
            "Epoch 21/50\n",
            "180/180 [==============================] - 62s 344ms/step - loss: 0.5103 - accuracy: 0.8102 - val_loss: 0.5582 - val_accuracy: 0.7948\n",
            "Epoch 22/50\n",
            "180/180 [==============================] - 62s 346ms/step - loss: 0.4926 - accuracy: 0.8168 - val_loss: 0.5488 - val_accuracy: 0.8025\n",
            "Epoch 23/50\n",
            "180/180 [==============================] - 63s 350ms/step - loss: 0.4833 - accuracy: 0.8256 - val_loss: 0.6525 - val_accuracy: 0.7669\n",
            "Epoch 24/50\n",
            "180/180 [==============================] - 62s 344ms/step - loss: 0.4655 - accuracy: 0.8328 - val_loss: 0.5663 - val_accuracy: 0.7941\n",
            "Epoch 25/50\n",
            "180/180 [==============================] - 62s 345ms/step - loss: 0.4501 - accuracy: 0.8384 - val_loss: 0.6666 - val_accuracy: 0.7627\n",
            "Epoch 26/50\n",
            "180/180 [==============================] - 62s 344ms/step - loss: 0.4524 - accuracy: 0.8375 - val_loss: 0.5184 - val_accuracy: 0.8116\n",
            "Epoch 27/50\n",
            "180/180 [==============================] - 63s 349ms/step - loss: 0.4290 - accuracy: 0.8445 - val_loss: 0.4759 - val_accuracy: 0.8262\n",
            "Epoch 28/50\n",
            "180/180 [==============================] - 64s 353ms/step - loss: 0.4263 - accuracy: 0.8456 - val_loss: 0.4606 - val_accuracy: 0.8374\n",
            "Epoch 29/50\n",
            "180/180 [==============================] - 62s 343ms/step - loss: 0.4178 - accuracy: 0.8483 - val_loss: 0.4549 - val_accuracy: 0.8339\n",
            "Epoch 30/50\n",
            "180/180 [==============================] - 64s 355ms/step - loss: 0.4177 - accuracy: 0.8499 - val_loss: 0.4758 - val_accuracy: 0.8255\n",
            "Epoch 31/50\n",
            "180/180 [==============================] - 63s 350ms/step - loss: 0.3927 - accuracy: 0.8570 - val_loss: 0.4523 - val_accuracy: 0.8332\n",
            "Epoch 32/50\n",
            "180/180 [==============================] - 62s 343ms/step - loss: 0.3951 - accuracy: 0.8576 - val_loss: 0.4064 - val_accuracy: 0.8569\n",
            "Epoch 33/50\n",
            "180/180 [==============================] - 62s 345ms/step - loss: 0.3776 - accuracy: 0.8628 - val_loss: 0.4391 - val_accuracy: 0.8437\n",
            "Epoch 34/50\n",
            "180/180 [==============================] - 63s 349ms/step - loss: 0.3662 - accuracy: 0.8665 - val_loss: 0.4386 - val_accuracy: 0.8458\n",
            "Epoch 35/50\n",
            "180/180 [==============================] - 62s 346ms/step - loss: 0.3718 - accuracy: 0.8641 - val_loss: 0.4680 - val_accuracy: 0.8395\n",
            "Epoch 36/50\n",
            "180/180 [==============================] - 62s 345ms/step - loss: 0.3784 - accuracy: 0.8651 - val_loss: 0.4871 - val_accuracy: 0.8241\n",
            "Epoch 37/50\n",
            "180/180 [==============================] - 63s 351ms/step - loss: 0.3445 - accuracy: 0.8769 - val_loss: 0.4180 - val_accuracy: 0.8486\n",
            "Epoch 38/50\n",
            "180/180 [==============================] - 62s 346ms/step - loss: 0.3513 - accuracy: 0.8730 - val_loss: 0.5203 - val_accuracy: 0.8158\n",
            "Epoch 39/50\n",
            "180/180 [==============================] - 62s 345ms/step - loss: 0.3340 - accuracy: 0.8786 - val_loss: 0.3791 - val_accuracy: 0.8604\n",
            "Epoch 40/50\n",
            "180/180 [==============================] - 62s 346ms/step - loss: 0.3381 - accuracy: 0.8785 - val_loss: 0.4036 - val_accuracy: 0.8583\n",
            "Epoch 41/50\n",
            "180/180 [==============================] - 63s 352ms/step - loss: 0.3266 - accuracy: 0.8822 - val_loss: 0.4407 - val_accuracy: 0.8444\n",
            "Epoch 42/50\n",
            "180/180 [==============================] - 62s 346ms/step - loss: 0.3177 - accuracy: 0.8881 - val_loss: 0.4557 - val_accuracy: 0.8423\n",
            "Epoch 43/50\n",
            "180/180 [==============================] - 62s 346ms/step - loss: 0.3107 - accuracy: 0.8905 - val_loss: 0.3930 - val_accuracy: 0.8632\n",
            "Epoch 44/50\n",
            "180/180 [==============================] - 62s 345ms/step - loss: 0.2957 - accuracy: 0.8946 - val_loss: 0.4091 - val_accuracy: 0.8604\n",
            "Epoch 45/50\n",
            "180/180 [==============================] - 64s 356ms/step - loss: 0.2964 - accuracy: 0.8907 - val_loss: 0.4373 - val_accuracy: 0.8465\n",
            "Epoch 46/50\n",
            "180/180 [==============================] - 63s 351ms/step - loss: 0.3094 - accuracy: 0.8883 - val_loss: 0.4046 - val_accuracy: 0.8590\n",
            "Epoch 47/50\n",
            "180/180 [==============================] - 77s 430ms/step - loss: 0.3012 - accuracy: 0.8898 - val_loss: 0.4034 - val_accuracy: 0.8493\n",
            "Epoch 48/50\n",
            "180/180 [==============================] - 67s 374ms/step - loss: 0.2889 - accuracy: 0.8941 - val_loss: 0.4393 - val_accuracy: 0.8423\n",
            "Epoch 49/50\n",
            "180/180 [==============================] - 66s 368ms/step - loss: 0.3039 - accuracy: 0.8905 - val_loss: 0.4353 - val_accuracy: 0.8625\n",
            "Epoch 50/50\n",
            "180/180 [==============================] - 63s 351ms/step - loss: 0.2811 - accuracy: 0.8982 - val_loss: 0.3488 - val_accuracy: 0.8702\n"
          ]
        }
      ],
      "source": [
        "history = model.fit (training_set ,\n",
        "           epochs = 50 ,\n",
        "           validation_data = valid_set)\n",
        "model.save('model01.h5')"
      ]
    },
    {
      "cell_type": "code",
      "execution_count": null,
      "metadata": {
        "id": "nKy-QNZDCP6x",
        "colab": {
          "base_uri": "https://localhost:8080/"
        },
        "outputId": "32d537a1-f4af-4b0b-ee5e-a21c88224a44"
      },
      "outputs": [
        {
          "output_type": "stream",
          "name": "stdout",
          "text": [
            "Found 1438 images belonging to 6 classes.\n",
            "23/23 [==============================] - 4s 187ms/step - loss: 0.3271 - accuracy: 0.8866\n"
          ]
        },
        {
          "output_type": "execute_result",
          "data": {
            "text/plain": [
              "[0.3270922303199768, 0.8866481184959412]"
            ]
          },
          "metadata": {},
          "execution_count": 18
        }
      ],
      "source": [
        "\n",
        "test_set = test_datagen.flow_from_directory(test_dir,\n",
        "                                            target_size = (128, 128),\n",
        "                                            batch_size = 64,\n",
        "                                            class_mode = 'categorical')\n",
        "\n",
        "model.evaluate(test_set)"
      ]
    },
    {
      "cell_type": "code",
      "source": [
        "import pandas as pd\n",
        "pd.DataFrame(history.history)[['loss','val_loss']].plot()\n",
        "plt.title('Loss')\n",
        "plt.xlabel('epochs')\n",
        "plt.ylabel('Loss')"
      ],
      "metadata": {
        "colab": {
          "base_uri": "https://localhost:8080/",
          "height": 489
        },
        "id": "yYZRUUlrWd9q",
        "outputId": "9a2af163-2131-4965-a402-14448b2de954"
      },
      "execution_count": null,
      "outputs": [
        {
          "output_type": "execute_result",
          "data": {
            "text/plain": [
              "Text(0, 0.5, 'Loss')"
            ]
          },
          "metadata": {},
          "execution_count": 20
        },
        {
          "output_type": "display_data",
          "data": {
            "text/plain": [
              "<Figure size 640x480 with 1 Axes>"
            ],
            "image/png": "[encoded data removed]"
          },
          "metadata": {}
        }
      ]
    },
    {
      "cell_type": "code",
      "source": [
        "pd.DataFrame(history.history)[['accuracy','val_accuracy']].plot()\n",
        "plt.title('accuracy')\n",
        "plt.xlabel('epochs')\n",
        "plt.ylabel('accuracy')"
      ],
      "metadata": {
        "colab": {
          "base_uri": "https://localhost:8080/",
          "height": 489
        },
        "id": "__DR6HpEWpiW",
        "outputId": "587c3e3d-7ea3-4a29-d0f5-818895a518f5"
      },
      "execution_count": null,
      "outputs": [
        {
          "output_type": "execute_result",
          "data": {
            "text/plain": [
              "Text(0, 0.5, 'accuracy')"
            ]
          },
          "metadata": {},
          "execution_count": 21
        },
        {
          "output_type": "display_data",
          "data": {
            "text/plain": [
              "<Figure size 640x480 with 1 Axes>"
            ],
            "image/png": "[encoded data removed]"
          },
          "metadata": {}
        }
      ]
    },
    {
      "cell_type": "code",
      "source": [
        "model_path = \"model01.h5\"\n",
        "loaded_model = keras.models.load_model(model_path)\n",
        "\n",
        "import matplotlib.pyplot as plt\n",
        "import numpy as np\n",
        "import cv2\n",
        "from PIL import Image\n",
        "\n",
        "image = cv2.imread(\"/content/22.jpeg\")\n",
        "image_fromarray = Image.fromarray(image, 'RGB')\n",
        "resize_image = image_fromarray.resize((128, 128))\n",
        "expand_input = np.expand_dims(resize_image,axis=0)\n",
        "input_data = np.array(expand_input)\n",
        "input_data = input_data/255\n",
        "pred = loaded_model.predict(input_data)\n",
        "result = pred.argmax()\n",
        "print(class_names[result])"
      ],
      "metadata": {
        "colab": {
          "base_uri": "https://localhost:8080/"
        },
        "id": "4XPpZcRBW1B-",
        "outputId": "abbbac31-f543-45b3-afe4-d6f8532e9236"
      },
      "execution_count": null,
      "outputs": [
        {
          "output_type": "stream",
          "name": "stdout",
          "text": [
            "1/1 [==============================] - 0s 90ms/step\n",
            "Happiness\n"
          ]
        }
      ]
    },
    {
      "cell_type": "code",
      "source": [
        "training_set.class_indices"
      ],
      "metadata": {
        "colab": {
          "base_uri": "https://localhost:8080/"
        },
        "id": "OwnkpGohXK4t",
        "outputId": "fdd86c00-ed38-4367-c9ad-2c6532127397"
      },
      "execution_count": null,
      "outputs": [
        {
          "output_type": "execute_result",
          "data": {
            "text/plain": [
              "{'Anger': 0,\n",
              " 'Disgust': 1,\n",
              " 'Fear': 2,\n",
              " 'Happiness': 3,\n",
              " 'Sadness': 4,\n",
              " 'Surprise': 5}"
            ]
          },
          "metadata": {},
          "execution_count": 34
        }
      ]
    },
    {
      "cell_type": "code",
      "source": [
        "\n",
        "import cv2\n",
        "cap = cv2.VideoCapture(0)\n",
        "while cap.isOpened():\n",
        "    _ , frame = cap.read()\n",
        "    frame = frame[50:500, 50:500,:]\n",
        "\n",
        "    rgb = cv2.cvtColor(frame, cv2.COLOR_BGR2RGB)\n",
        "    resized = tf.image.resize(rgb, (120,120))\n",
        "\n",
        "    yhat = loaded_model.predict(np.expand_dims(resized/255,0))\n",
        "    sample_coords = yhat[1][0]\n",
        "    image = cv2.imread(\"/content/22.jpeg\")\n",
        "    gray=cv2.cvtColor(im,cv2.COLOR_BGR2GRAY)\n",
        "    image_fromarray = Image.fromarray(gray, 'RGB')\n",
        "    resize_image = image_fromarray.resize((128, 128))\n",
        "    expand_input = np.expand_dims(resize_image,axis=0)\n",
        "    input_data = np.array(expand_input)\n",
        "    input_data = input_data/255\n",
        "    pred = loaded_model.predict(input_data)\n",
        "    result = pred.argmax()\n",
        "\n",
        "\n",
        "\n",
        "\n",
        "        # Controls the text rendered\n",
        "        cv2.putText(frame, class_names[result] , tuple(np.add(np.multiply(sample_coords[:2], [450,450]).astype(int),\n",
        "                                               [0,-5])),\n",
        "                    cv2.FONT_HERSHEY_SIMPLEX, 1, (255,255,255), 2, cv2.LINE_AA)\n",
        "\n",
        "    cv2.imshow('EyeTrack', frame)\n",
        "\n",
        "    if cv2.waitKey(1) & 0xFF == ord('q'):\n",
        "        break\n",
        "cap.release()\n",
        "cv2.destroyAllWindows()"
      ],
      "metadata": {
        "id": "Ujmuf0AobGyw"
      },
      "execution_count": null,
      "outputs": []
    },
    {
      "cell_type": "code",
      "source": [],
      "metadata": {
        "id": "zuVRhnDOdzFx"
      },
      "execution_count": null,
      "outputs": []
    }
  ],
  "metadata": {
    "colab": {
      "provenance": [],
      "gpuType": "T4"
    },
    "kernelspec": {
      "display_name": "Python 3",
      "name": "python3"
    },
    "language_info": {
      "name": "python"
    }
  },
  "nbformat": 4,
  "nbformat_minor": 0
}